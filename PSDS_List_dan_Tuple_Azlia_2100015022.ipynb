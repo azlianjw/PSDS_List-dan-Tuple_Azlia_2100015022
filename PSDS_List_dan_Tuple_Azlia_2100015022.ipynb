{
  "nbformat": 4,
  "nbformat_minor": 0,
  "metadata": {
    "colab": {
      "provenance": []
    },
    "kernelspec": {
      "name": "python3",
      "display_name": "Python 3"
    },
    "language_info": {
      "name": "python"
    }
  },
  "cells": [
    {
      "cell_type": "code",
      "execution_count": null,
      "metadata": {
        "colab": {
          "base_uri": "https://localhost:8080/"
        },
        "id": "JHE45iiuMHRx",
        "outputId": "5462bfbb-aeff-4539-c584-52afce43e179"
      },
      "outputs": [
        {
          "output_type": "stream",
          "name": "stdout",
          "text": [
            "<class 'list'>\n"
          ]
        }
      ],
      "source": [
        "#List\n",
        "\n",
        "L1=[1,2,3,4,5,6,7]\n",
        "\n",
        "print(type(L1))"
      ]
    },
    {
      "cell_type": "code",
      "source": [
        "L2=('math','phy',2002,2003)\n",
        "L2\n"
      ],
      "metadata": {
        "colab": {
          "base_uri": "https://localhost:8080/"
        },
        "id": "kjby7H9_T32f",
        "outputId": "5c5cc58d-eb37-46db-81c4-924afce8e34f"
      },
      "execution_count": null,
      "outputs": [
        {
          "output_type": "execute_result",
          "data": {
            "text/plain": [
              "('math', 'phy', 2002, 2003)"
            ]
          },
          "metadata": {},
          "execution_count": 22
        }
      ]
    },
    {
      "cell_type": "code",
      "source": [
        "print(L1)\n",
        "print(L2)"
      ],
      "metadata": {
        "colab": {
          "base_uri": "https://localhost:8080/"
        },
        "id": "R5mVwOxjUAJr",
        "outputId": "b58619b7-aa6d-4580-b63d-aa5f9f806f42"
      },
      "execution_count": null,
      "outputs": [
        {
          "output_type": "stream",
          "name": "stdout",
          "text": [
            "[1, 2, 3, 4, 5, 6, 7]\n",
            "('math', 'phy', 2002, 2003)\n"
          ]
        }
      ]
    },
    {
      "cell_type": "code",
      "source": [
        "#Sifat-sifat List\n",
        "\n",
        "#Terurut/Ordered\n",
        "print(\"Memanggil List L1 dengan indeks urutan:\", L1[0:3])\n",
        "\n",
        "#Bisa Diganti/Mutable\n",
        "L1[2]=3\n",
        "print(\"List L1 setelah diganti elemennya:\", L1)\n",
        "\n",
        "L1=[1, \"dua\", True, 2+3j]\n",
        "\n",
        "#Dapat Diindeks/Slicing\n",
        "print(\"Slicing List L1:\", L1[3])\n",
        "\n",
        "#Dapat Diinjinkan Duplikasi\n",
        "L1= [1, \"dua\", True, 2+3j, 2+3j]\n",
        "print(\"Duplikasi paada List L1:\",L1)"
      ],
      "metadata": {
        "colab": {
          "base_uri": "https://localhost:8080/"
        },
        "id": "AZrZ3xHlO6-l",
        "outputId": "9eff667e-e627-4c2a-9c18-6d4d18bbf28d"
      },
      "execution_count": null,
      "outputs": [
        {
          "output_type": "stream",
          "name": "stdout",
          "text": [
            "Memanggil List L1 dengan indeks urutan: [1, 2, 3]\n",
            "List L1 setelah diganti elemennya: [1, 2, 3, 4, 5, 6, 7]\n",
            "Slicing List L1: (2+3j)\n",
            "Duplikasi paada List L1: [1, 'dua', True, (2+3j), (2+3j)]\n"
          ]
        }
      ]
    },
    {
      "cell_type": "code",
      "source": [
        "#Tuple\n",
        "\n",
        "T1=(2, \"empat\", True, 2+4j)\n",
        "print(\"ini adalah tuple\", T1)"
      ],
      "metadata": {
        "colab": {
          "base_uri": "https://localhost:8080/"
        },
        "id": "pHEPDSQr5jCX",
        "outputId": "18b0a58b-4b42-402b-bb98-0c3ca53875db"
      },
      "execution_count": 1,
      "outputs": [
        {
          "output_type": "stream",
          "name": "stdout",
          "text": [
            "ini adalah tuple (2, 'empat', True, (2+4j))\n"
          ]
        }
      ]
    },
    {
      "cell_type": "code",
      "source": [
        "type(T1)"
      ],
      "metadata": {
        "colab": {
          "base_uri": "https://localhost:8080/"
        },
        "id": "RO-QJwlX5peG",
        "outputId": "a1c45321-1a4e-421b-c07b-3f776fc122e6"
      },
      "execution_count": 2,
      "outputs": [
        {
          "output_type": "execute_result",
          "data": {
            "text/plain": [
              "tuple"
            ]
          },
          "metadata": {},
          "execution_count": 2
        }
      ]
    },
    {
      "cell_type": "code",
      "source": [
        "#Menggabungkan Tuple\n",
        "\n",
        "T2=(3,7, True, 7)\n",
        "T2\n"
      ],
      "metadata": {
        "colab": {
          "base_uri": "https://localhost:8080/"
        },
        "id": "7ZoYoMAX5srf",
        "outputId": "dda078f2-a1e1-48c3-e9b2-1cd03658fb69"
      },
      "execution_count": 3,
      "outputs": [
        {
          "output_type": "execute_result",
          "data": {
            "text/plain": [
              "(3, 7, True, 7)"
            ]
          },
          "metadata": {},
          "execution_count": 3
        }
      ]
    },
    {
      "cell_type": "code",
      "source": [
        "T3=T1+T2\n",
        "T3"
      ],
      "metadata": {
        "colab": {
          "base_uri": "https://localhost:8080/"
        },
        "id": "JQg2DENe5v8R",
        "outputId": "3fe698dd-5281-49bf-aa0a-9b373a9b5d44"
      },
      "execution_count": 4,
      "outputs": [
        {
          "output_type": "execute_result",
          "data": {
            "text/plain": [
              "(2, 'empat', True, (2+4j), 3, 7, True, 7)"
            ]
          },
          "metadata": {},
          "execution_count": 4
        }
      ]
    }
  ]
}